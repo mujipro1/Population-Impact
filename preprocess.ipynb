{
 "cells": [
  {
   "cell_type": "code",
   "execution_count": 2,
   "metadata": {},
   "outputs": [],
   "source": [
    "import os\n",
    "import numpy as np\n",
    "import pandas as pd"
   ]
  },
  {
   "cell_type": "markdown",
   "metadata": {},
   "source": [
    "# Population Data Preprocessing\n",
    "### Data Source: [World Bank](https://population.un.org/wpp/Download/Standard/MostUsed)\n",
    "\n",
    "### Data Description:\n",
    "- The data contains the population of all countries from 1950 to 2020.\n",
    "- The data is in excel format.\n",
    " \n",
    "We have extracted the data from the excel file and saved it in a new file in the directory \"Refined\". We will now load the data and process it."
   ]
  },
  {
   "cell_type": "code",
   "execution_count": 2,
   "metadata": {},
   "outputs": [],
   "source": [
    "try:\n",
    "    df = pd.read_excel('Refined/Population.xlsx')\n",
    "except:\n",
    "    df = pd.read_excel('Data/WPP2022_GEN_F01_DEMOGRAPHIC_INDICATORS_COMPACT_REV1.xlsx')\n",
    "    df = df[df.iloc[:,2] == 'Pakistan']\n",
    "    df = df.iloc[:,[2, 10, 12, 13, 14, 16, 17, 21, 36 ]]\n",
    "    df.columns = ['Country', 'Year', 'Total', 'Male', 'Female', 'Ratio', 'Median Age', 'Increase Rate', 'Life Expectancy']\n",
    "    os.makedirs('Refined', exist_ok=True)\n",
    "    df.to_excel('Refined/Population.xlsx', index=False)"
   ]
  },
  {
   "cell_type": "markdown",
   "metadata": {},
   "source": [
    "# GDP Data Preprocessing\n",
    "### Data Source: [World Bank](https://data.worldbank.org/indicator/NY.GDP.MKTP.CD?locations=PK)\n",
    "\n",
    "### Data Description:\n",
    "- The data contains the GDP of all countries from 1960 to 2020.\n",
    "- The data is in excel format.\n",
    "\n",
    "We extracted the years and GDP value of Pakistan only and saved it in a new file in the directory \"Refined\". We will now load the data and process it."
   ]
  },
  {
   "cell_type": "code",
   "execution_count": 7,
   "metadata": {},
   "outputs": [],
   "source": [
    "try:\n",
    "    df = pd.read_excel('Refined/GDP.xlsx')\n",
    "except:\n",
    "    df = pd.read_excel('Data/API_NY.GDP.MKTP.CD_DS2_en_excel_v2_339292.xls')\n",
    "    df = df.iloc[[2, df[df.iloc[:, 0] == 'Pakistan'].index[0]]].T.reset_index()\n",
    "    df.columns = ['Year', 'Value']\n",
    "    df = df.iloc[:, 1:]\n",
    "    df = df.iloc[4:-1]\n",
    "    \n",
    "    os.makedirs('Refined', exist_ok=True)\n",
    "    df.to_excel('Refined/GDP.xlsx', index=False)"
   ]
  },
  {
   "cell_type": "markdown",
   "metadata": {},
   "source": [
    "# Inflation Data Preprocessing\n",
    "### Data Source: [World Bank](https://data.worldbank.org/indicator/FP.CPI.TOTL.ZG?locations=PK)\n",
    "\n",
    "### Data Description:\n",
    "- The data contains the inflation(consumer prices) of all countries from 1960 to 2020.\n",
    "- The data is in excel format.\n",
    "\n",
    "We extracted the years and inflation rate of Pakistan only and saved it in a new file in the directory \"Refined\". We will now load the data and process it."
   ]
  },
  {
   "cell_type": "code",
   "execution_count": 5,
   "metadata": {},
   "outputs": [],
   "source": [
    "try:\n",
    "    df = pd.read_excel('Refined/Inflation.xlsx')\n",
    "except: \n",
    "    df = pd.read_excel('Data/API_FP.CPI.TOTL.ZG_DS2_en_excel_v2_340510.xls')\n",
    "    df = df.iloc[[2, df[df.iloc[:, 0] == 'Pakistan'].index[0]]].T.reset_index()\n",
    "    df = df.iloc[:, 1:]\n",
    "\n",
    "    df.columns = ['Year', 'Value']\n",
    "    df = df.iloc[4:-1]\n",
    "        \n",
    "    os.makedirs('Refined', exist_ok=True)\n",
    "    df.to_excel('Refined/Inflation.xlsx', index=False)"
   ]
  }
 ],
 "metadata": {
  "kernelspec": {
   "display_name": "Python 3",
   "language": "python",
   "name": "python3"
  },
  "language_info": {
   "codemirror_mode": {
    "name": "ipython",
    "version": 3
   },
   "file_extension": ".py",
   "mimetype": "text/x-python",
   "name": "python",
   "nbconvert_exporter": "python",
   "pygments_lexer": "ipython3",
   "version": "3.11.4"
  }
 },
 "nbformat": 4,
 "nbformat_minor": 2
}
