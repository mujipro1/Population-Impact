{
 "cells": [
  {
   "cell_type": "code",
   "execution_count": 60,
   "metadata": {},
   "outputs": [],
   "source": [
    "import os\n",
    "import numpy as np\n",
    "import pandas as pd"
   ]
  },
  {
   "cell_type": "markdown",
   "metadata": {},
   "source": [
    "## Data Preprocessing\n",
    "\n",
    "### Data Sources\n",
    "\n",
    "- Population Data: [UN Data Bank](https://population.un.org/wpp/Download/Standard/MostUsed)\n",
    "- GDP Data: [World Bank](https://data.worldbank.org/indicator/NY.GDP.MKTP.CD?locations=PK)\n",
    "- Inflation Data: [World Bank](https://data.worldbank.org/indicator/FP.CPI.TOTL.ZG?locations=PK)\n",
    "- Unemployment Data: [World Bank](https://data.worldbank.org/indicator/SL.UEM.TOTL.ZS?locations=PK)\n",
    "- Homicides Data: [World Bank](https://data.worldbank.org/indicator/VC.IHR.PSRC.P5?locations=PK)\n",
    "\n",
    "### Data Description:\n",
    "- The data contains the population, inflation, homicides, gdp, unemployment of all countries from 1950 to 2020.\n",
    "- The data is in excel format.\n",
    " \n",
    "We will extract all data, clean it, and merge it into a single dataframe.\n",
    "\n",
    "### Data Cleaning\n",
    "\n",
    "- We will remove all the columns that are not required.\n",
    "- We will replace null values with Minimum value of the column, since most nulls are at the start of the data, and we can't replace them with mean or median.\n",
    "- We will merge all the data into a single dataframe.\n",
    "- We will remove all the rows with null values."
   ]
  },
  {
   "cell_type": "code",
   "execution_count": 61,
   "metadata": {},
   "outputs": [],
   "source": [
    "population_df = pd.read_excel('Data/WPP2022_GEN_F01_DEMOGRAPHIC_INDICATORS_COMPACT_REV1.xlsx')\n",
    "gdp_df = pd.read_excel('Data/API_NY.GDP.MKTP.CD_DS2_en_excel_v2_339292.xls')\n",
    "inflation_df = pd.read_excel('Data/API_FP.CPI.TOTL.ZG_DS2_en_excel_v2_340510.xls')\n",
    "homicides_df = pd.read_excel('Data/API_VC.IHR.PSRC.P5_DS2_en_excel_v2_330978.xls')\n",
    "unemployment_df = pd.read_excel('Data/API_SL.UEM.TOTL.ZS_DS2_en_excel_v2_337831.xls')\n",
    "\n",
    "\n",
    "population_df = population_df[population_df.iloc[:,2] == 'Pakistan']\n",
    "population_df = population_df.iloc[:,[10, 12, 13, 14, 16, 17, 21, 36 ]]\n",
    "population_df.columns = ['Year', 'Total', 'Male', 'Female', 'Ratio', 'Median Age', 'Increase Rate', 'Life Expectancy']\n",
    "\n",
    "\n",
    "gdp_df = gdp_df.iloc[[2, gdp_df[gdp_df.iloc[:, 0] == 'Pakistan'].index[0]]].T.reset_index()\n",
    "gdp_df = gdp_df.iloc[:, 1:]\n",
    "gdp_df.columns = ['Year', 'GDP']\n",
    "gdp_df = gdp_df.iloc[4:-1]\n",
    "\n",
    "\n",
    "inflation_df = inflation_df.iloc[[2, inflation_df[inflation_df.iloc[:, 0] == 'Pakistan'].index[0]]].T.reset_index()\n",
    "inflation_df = inflation_df.iloc[:, 1:]\n",
    "inflation_df.columns = ['Year', 'Inflation']\n",
    "inflation_df = inflation_df.iloc[4:-1]\n",
    "\n",
    "\n",
    "homicides_df = homicides_df.iloc[[2, homicides_df[homicides_df.iloc[:, 0] == 'Pakistan'].index[0]]].T.reset_index()\n",
    "homicides_df = homicides_df.iloc[:, 1:]\n",
    "homicides_df.columns = ['Year', 'Homicides']\n",
    "homicides_df = homicides_df.iloc[4:-1]\n",
    "    \n",
    "    \n",
    "unemployment_df = unemployment_df.iloc[[2, unemployment_df[unemployment_df.iloc[:, 0] == 'Pakistan'].index[0]]].T.reset_index()\n",
    "unemployment_df = unemployment_df.iloc[:, 1:]\n",
    "unemployment_df.columns = ['Year', 'Unemployment']\n",
    "unemployment_df = unemployment_df.iloc[4:-1]\n",
    "        "
   ]
  },
  {
   "cell_type": "markdown",
   "metadata": {},
   "source": [
    "#### Data Transformation"
   ]
  },
  {
   "cell_type": "code",
   "execution_count": 62,
   "metadata": {},
   "outputs": [],
   "source": [
    "merged_df = population_df.merge(inflation_df, on='Year', how='left')\n",
    "merged_df = merged_df.merge(unemployment_df, on='Year', how='left')\n",
    "merged_df = merged_df.merge(gdp_df, on='Year', how='left')\n",
    "merged_df = merged_df.merge(homicides_df, on='Year', how='left')\n",
    "\n",
    "merged_df['Homicides'] = merged_df['Homicides'].replace(np.nan, merged_df['Homicides'].min())\n",
    "merged_df['Inflation'] = merged_df['Inflation'].replace(np.nan, merged_df['Inflation'].min())\n",
    "merged_df['Unemployment'] = merged_df['Unemployment'].replace(np.nan, merged_df['Unemployment'].min())\n",
    "merged_df['GDP'] = merged_df['GDP'].replace(np.nan, merged_df['GDP'].min())\n",
    "\n",
    "merged_df = merged_df.iloc[10:]\n",
    "merged_df.to_excel('Refined/CleanData.xlsx', index=False)"
   ]
  }
 ],
 "metadata": {
  "kernelspec": {
   "display_name": "Python 3",
   "language": "python",
   "name": "python3"
  },
  "language_info": {
   "codemirror_mode": {
    "name": "ipython",
    "version": 3
   },
   "file_extension": ".py",
   "mimetype": "text/x-python",
   "name": "python",
   "nbconvert_exporter": "python",
   "pygments_lexer": "ipython3",
   "version": "3.11.4"
  }
 },
 "nbformat": 4,
 "nbformat_minor": 2
}
