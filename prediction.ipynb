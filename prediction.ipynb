{
 "cells": [
  {
   "cell_type": "markdown",
   "metadata": {},
   "source": [
    "Import necessary libraries\n"
   ]
  },
  {
   "cell_type": "code",
   "execution_count": 213,
   "metadata": {},
   "outputs": [],
   "source": [
    "import os\n",
    "import joblib\n",
    "import numpy as np\n",
    "import pandas as pd\n",
    "import seaborn as sns\n",
    "import matplotlib.pyplot as plt\n",
    "from sklearn.preprocessing import MinMaxScaler\n",
    "from sklearn.linear_model import LinearRegression\n",
    "from sklearn.ensemble import RandomForestRegressor\n",
    "from sklearn.metrics import r2_score\n",
    "from sklearn.model_selection import train_test_split\n",
    "from sklearn.preprocessing import PolynomialFeatures"
   ]
  },
  {
   "cell_type": "markdown",
   "metadata": {},
   "source": [
    "LOAD DATA"
   ]
  },
  {
   "cell_type": "code",
   "execution_count": 214,
   "metadata": {},
   "outputs": [
    {
     "name": "stdout",
     "output_type": "stream",
     "text": [
      "   Year      Total       Male     Female    Ratio  Median Age  Increase Rate  \\\n",
      "0  1960  45954.226  24795.178  21159.049  117.185      18.429          2.485   \n",
      "1  1961  47060.915  25363.721  21697.194  116.899      18.360          2.277   \n",
      "2  1962  48161.841  25930.189  22231.652  116.636      18.271          2.347   \n",
      "3  1963  49325.050  26526.519  22798.530  116.352      18.183          2.425   \n",
      "4  1964  50552.592  27153.709  23398.883  116.047      18.084          2.490   \n",
      "\n",
      "   Life Expectancy  Inflation  Unemployment           GDP  Homicides  \n",
      "0           43.355   6.947368           0.4  3.749265e+09   3.651252  \n",
      "1           44.180   1.640420           0.4  4.118648e+09   3.651252  \n",
      "2           45.009  -0.516462           0.4  4.310164e+09   3.651252  \n",
      "3           46.318   1.456488           0.4  4.630827e+09   3.651252  \n",
      "4           47.360   4.179587           0.4  5.204956e+09   3.651252  \n"
     ]
    }
   ],
   "source": [
    "#Step 1: Load Data\n",
    "data = pd.read_excel('Refined/CleanData.xlsx')\n",
    "print(data.head())"
   ]
  },
  {
   "cell_type": "markdown",
   "metadata": {},
   "source": [
    "population "
   ]
  },
  {
   "cell_type": "code",
   "execution_count": 215,
   "metadata": {},
   "outputs": [
    {
     "name": "stdout",
     "output_type": "stream",
     "text": [
      "Accuracy:  98.433 %\n"
     ]
    }
   ],
   "source": [
    "X = data['Year'].values.reshape(-1, 1)\n",
    "y = data['Total'].values\n",
    "\n",
    "X_train, X_test, y_train, y_test = train_test_split(X, y, test_size=0.2, random_state=42)\n",
    "\n",
    "population_model = LinearRegression()\n",
    "population_model.fit(X_train, y_train)\n",
    "\n",
    "y_pred = population_model.predict(X_test)\n",
    "\n",
    "print(\"Accuracy: \", population_model.score(X_test, y_test).round(5) * 100, \"%\")"
   ]
  },
  {
   "cell_type": "markdown",
   "metadata": {},
   "source": [
    "gdp"
   ]
  },
  {
   "cell_type": "code",
   "execution_count": 216,
   "metadata": {},
   "outputs": [
    {
     "name": "stdout",
     "output_type": "stream",
     "text": [
      "Accuracy: 99.612 %\n"
     ]
    }
   ],
   "source": [
    "X = data['Year'].values.reshape(-1, 1)\n",
    "y = np.log(data['GDP'].values)\n",
    "\n",
    "X_train, X_test, y_train, y_test = train_test_split(X, y, test_size=0.2, random_state=42)\n",
    "\n",
    "poly_features = PolynomialFeatures(degree=2)\n",
    "X_train_poly = poly_features.fit_transform(X_train)\n",
    "X_test_poly = poly_features.transform(X_test)\n",
    "\n",
    "gdp_model = LinearRegression()\n",
    "gdp_model.fit(X_train_poly, y_train)\n",
    "\n",
    "print(\"Accuracy:\", gdp_model.score(X_test_poly, y_test).round(5) * 100, \"%\")"
   ]
  },
  {
   "cell_type": "markdown",
   "metadata": {},
   "source": [
    "unemployment"
   ]
  },
  {
   "cell_type": "code",
   "execution_count": 217,
   "metadata": {},
   "outputs": [
    {
     "name": "stdout",
     "output_type": "stream",
     "text": [
      "Accuracy 69.321 %\n"
     ]
    }
   ],
   "source": [
    "X = data['Year'].values.reshape(-1, 1)\n",
    "y = np.log(data['Unemployment'].values)\n",
    "\n",
    "X_train, X_test, y_train, y_test = train_test_split(X, y, test_size=0.2, random_state=42)\n",
    "\n",
    "poly_features = PolynomialFeatures(degree=2)\n",
    "X_train_poly = poly_features.fit_transform(X_train)\n",
    "X_test_poly = poly_features.transform(X_test)\n",
    "\n",
    "unemployment_model = LinearRegression()\n",
    "unemployment_model.fit(X_train_poly, y_train)\n",
    "\n",
    "print(\"Accuracy\", unemployment_model.score(X_test_poly, y_test).round(5) * 100, \"%\")"
   ]
  },
  {
   "cell_type": "markdown",
   "metadata": {},
   "source": [
    "inflation"
   ]
  },
  {
   "cell_type": "code",
   "execution_count": 227,
   "metadata": {},
   "outputs": [
    {
     "name": "stdout",
     "output_type": "stream",
     "text": [
      "Decision Tree Regressor Accuracy: -103.95%\n",
      "Predicted Inflation in 2025: 9.50\n"
     ]
    }
   ],
   "source": [
    "import pandas as pd\n",
    "from sklearn.tree import DecisionTreeRegressor\n",
    "from sklearn.model_selection import train_test_split\n",
    "from sklearn.metrics import r2_score\n",
    "\n",
    "# Load data\n",
    "data = pd.read_excel('Refined/CleanData.xlsx')\n",
    "\n",
    "# Filter data for relevant years\n",
    "data = data[data['Year'] >= 1990]\n",
    "\n",
    "# Prepare data\n",
    "X = data[['Year']].values\n",
    "y = data['Inflation'].values\n",
    "\n",
    "# Split data into training and testing sets\n",
    "X_train, X_test, y_train, y_test = train_test_split(X, y, test_size=0.2, random_state=42)\n",
    "\n",
    "# Train Decision Tree Regressor model\n",
    "dt_model = DecisionTreeRegressor(random_state=42)\n",
    "dt_model.fit(X_train, y_train)\n",
    "\n",
    "# Evaluate model\n",
    "y_pred_dt = dt_model.predict(X_test)\n",
    "accuracy_dt = r2_score(y_test, y_pred_dt)\n",
    "print(f\"Decision Tree Regressor Accuracy: {accuracy_dt * 100:.2f}%\")\n",
    "\n",
    "# Predict inflation for the year 2025\n",
    "Year_2025 = [[2025]]\n",
    "predicted_inflation_2025 = dt_model.predict(Year_2025)\n",
    "print(f\"Predicted Inflation in 2025: {predicted_inflation_2025[0]:.2f}\")\n"
   ]
  },
  {
   "cell_type": "markdown",
   "metadata": {},
   "source": [
    "homicides"
   ]
  },
  {
   "cell_type": "code",
   "execution_count": 219,
   "metadata": {},
   "outputs": [
    {
     "name": "stdout",
     "output_type": "stream",
     "text": [
      "Accuracy: 95.883 %\n"
     ]
    }
   ],
   "source": [
    "# Load and filter data\n",
    "data = pd.read_excel('Refined/CleanData.xlsx')\n",
    "data = data[data['Year'] >= 1990]\n",
    "\n",
    "# Feature and target variables\n",
    "X = data['Year'].values.reshape(-1, 1)\n",
    "y = np.log(data['Homicides'].values)\n",
    "\n",
    "# Train-test split\n",
    "X_train, X_test, y_train, y_test = train_test_split(X, y, test_size=0.2, random_state=42)\n",
    "\n",
    "# Polynomial features\n",
    "poly_features = PolynomialFeatures(degree=2)\n",
    "X_train_poly = poly_features.fit_transform(X_train)\n",
    "X_test_poly = poly_features.transform(X_test)\n",
    "\n",
    "# Model training\n",
    "homicides_model = RandomForestRegressor(n_estimators=100, random_state=42)\n",
    "homicides_model.fit(X_train_poly, y_train)\n",
    "\n",
    "# Model evaluation\n",
    "print(\"Accuracy:\", homicides_model.score(X_test_poly, y_test).round(5) * 100, \"%\")\n"
   ]
  },
  {
   "cell_type": "markdown",
   "metadata": {},
   "source": [
    "final prediction"
   ]
  },
  {
   "cell_type": "code",
   "execution_count": 220,
   "metadata": {},
   "outputs": [
    {
     "name": "stdout",
     "output_type": "stream",
     "text": [
      "Predicted Population in 2025: 237210\n",
      "Predicted Unemployment in 2025: 7\n",
      "Predicted GDP in 2025: 526597842345\n",
      "Predicted Homicides in 2025: 3.93\n",
      "Predicted Inflation in 2025: 6.18\n"
     ]
    }
   ],
   "source": [
    "# Ask for the input year\n",
    "Year = int(input(\"Enter the year for prediction: \"))\n",
    "features_for_prediction = [[Year]]\n",
    "\n",
    "# Predict population\n",
    "predictions = population_model.predict(features_for_prediction)\n",
    "print(f\"Predicted Population in {Year}: {int(predictions[0])}\")\n",
    "\n",
    "# Predict unemployment\n",
    "predictions = np.exp(unemployment_model.predict(poly_features.transform(features_for_prediction)))\n",
    "print(f\"Predicted Unemployment in {Year}: {int(predictions[0])}\")\n",
    "\n",
    "# Predict GDP\n",
    "predictions = np.exp(gdp_model.predict(poly_features.transform(features_for_prediction)))\n",
    "print(f\"Predicted GDP in {Year}: {int(predictions[0])}\")\n",
    "\n",
    "# Predict homicides\n",
    "predictions = np.exp(homicides_model.predict(poly_features.transform(features_for_prediction)))\n",
    "print(f\"Predicted Homicides in {Year}: {predictions[0]:.2f}\")\n",
    "\n",
    "# Predict inflation\n",
    "predicted_inflation = inflation_model.predict(poly_features.transform(features_for_prediction))\n",
    "print(f\"Predicted Inflation in {Year}: {predicted_inflation[0]:.2f}\")\n"
   ]
  }
 ],
 "metadata": {
  "kernelspec": {
   "display_name": "Python 3",
   "language": "python",
   "name": "python3"
  },
  "language_info": {
   "codemirror_mode": {
    "name": "ipython",
    "version": 3
   },
   "file_extension": ".py",
   "mimetype": "text/x-python",
   "name": "python",
   "nbconvert_exporter": "python",
   "pygments_lexer": "ipython3",
   "version": "3.11.9"
  }
 },
 "nbformat": 4,
 "nbformat_minor": 2
}
